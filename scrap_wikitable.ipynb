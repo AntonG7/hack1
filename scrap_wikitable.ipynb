{
  "nbformat": 4,
  "nbformat_minor": 0,
  "metadata": {
    "colab": {
      "name": "scrap_wikitable.ipynb",
      "provenance": [],
      "authorship_tag": "ABX9TyPmyv1TrJ6tI8pMtaPu5iKp",
      "include_colab_link": true
    },
    "kernelspec": {
      "name": "python3",
      "display_name": "Python 3"
    }
  },
  "cells": [
    {
      "cell_type": "markdown",
      "metadata": {
        "id": "view-in-github",
        "colab_type": "text"
      },
      "source": [
        "<a href=\"https://colab.research.google.com/github/AntonG7/hack1/blob/master/scrap_wikitable.ipynb\" target=\"_parent\"><img src=\"https://colab.research.google.com/assets/colab-badge.svg\" alt=\"Open In Colab\"/></a>"
      ]
    },
    {
      "cell_type": "markdown",
      "metadata": {
        "id": "e4ztgh1iV_cX",
        "colab_type": "text"
      },
      "source": [
        "# Scrap une table de Wikipedia. \n",
        "Prend en compte des cellules qui s'étendent sur plusieurs lignes/colonnes.\n",
        "La sortie est un fichiers csv avec les éléments sélectionnés\n",
        "\n"
      ]
    },
    {
      "cell_type": "markdown",
      "metadata": {
        "id": "5ZHxcQPQWgLl",
        "colab_type": "text"
      },
      "source": [
        "Imports\n"
      ]
    },
    {
      "cell_type": "code",
      "metadata": {
        "id": "CtJhG18mN4NW",
        "colab_type": "code",
        "colab": {}
      },
      "source": [
        "# -*- coding: utf-8 -*-\n",
        "from bs4 import BeautifulSoup\n",
        "import requests\n",
        "import os\n",
        "import codecs"
      ],
      "execution_count": 1,
      "outputs": []
    },
    {
      "cell_type": "markdown",
      "metadata": {
        "id": "ISEdD5BwWwkw",
        "colab_type": "text"
      },
      "source": [
        "Parametres Wikipedia "
      ]
    },
    {
      "cell_type": "code",
      "metadata": {
        "id": "sI88SoNYN_bL",
        "colab_type": "code",
        "colab": {}
      },
      "source": [
        "wiki = \"https://fr.wikipedia.org/wiki/Liste_des_d%C3%A9partements_fran%C3%A7ais_class%C3%A9s_par_population_et_superficie\"\n",
        "header = {\n",
        "    'User-Agent': 'Mozilla/5.0'\n",
        "}  # Needed to prevent 403 error on Wikipedia\n",
        "page = requests.get(wiki, headers=header)\n",
        "soup = BeautifulSoup(page.content)\n",
        "tables = soup.findAll(\"table\", {\"class\": \"wikitable\"})"
      ],
      "execution_count": 3,
      "outputs": []
    },
    {
      "cell_type": "code",
      "metadata": {
        "id": "_SirmOREOVRq",
        "colab_type": "code",
        "colab": {}
      },
      "source": [
        "# show tables\n",
        "for i, table in enumerate(tables):\n",
        "    print(\"#\"*10 + \"Table {}\".format(i) + '#'*10)\n",
        "    print(table.text[:100])\n",
        "    print('.'*80)\n",
        "print(\"#\"*80)"
      ],
      "execution_count": null,
      "outputs": []
    },
    {
      "cell_type": "markdown",
      "metadata": {
        "id": "yM6I22RUWloc",
        "colab_type": "text"
      },
      "source": [
        "Détection des cellules avec balises HTML"
      ]
    },
    {
      "cell_type": "code",
      "metadata": {
        "id": "wA7-cIlsOyiD",
        "colab_type": "code",
        "colab": {}
      },
      "source": [
        "for tn, table in enumerate(tables):\n",
        "\n",
        "    # preinit list of lists\n",
        "    rows = table.findAll(\"tr\")\n",
        "    row_lengths = [len(r.findAll(['th', 'td'])) for r in rows]\n",
        "    ncols = max(row_lengths)\n",
        "    nrows = len(rows)\n",
        "    data = []\n",
        "    for i in range(nrows):\n",
        "        rowD = []\n",
        "        for j in range(ncols):\n",
        "            rowD.append('')\n",
        "        data.append(rowD)\n",
        "\n",
        "    # process html\n",
        "    for i in range(len(rows)):\n",
        "        row = rows[i]\n",
        "        rowD = []\n",
        "        cells = row.findAll([\"td\", \"th\"])\n",
        "        for j in range(len(cells)):\n",
        "            cell = cells[j]\n",
        "\n",
        "            #lots of cells span cols and rows so lets deal with that\n",
        "            cspan = int(cell.get('colspan', 1))\n",
        "            rspan = int(cell.get('rowspan', 1))\n",
        "            l = 0\n",
        "            for k in range(rspan):\n",
        "                # Shifts to the first empty cell of this row\n",
        "                while data[i + k][j + l]:\n",
        "                    l += 1\n",
        "                for m in range(cspan):\n",
        "                    cell_n = j + l + m\n",
        "                    row_n = i + k\n",
        "                    # in some cases the colspan can overflow the table, in those cases just get the last item\n",
        "                    cell_n = min(cell_n, len(data[row_n])-1)\n",
        "                    data[row_n][cell_n] += cell.text\n",
        "                    print(cell.text)\n",
        "\n",
        "data.append(rowD)"
      ],
      "execution_count": null,
      "outputs": []
    },
    {
      "cell_type": "code",
      "metadata": {
        "id": "CQUSgw8pPcVS",
        "colab_type": "code",
        "colab": {
          "base_uri": "https://localhost:8080/",
          "height": 35
        },
        "outputId": "a21b9066-83a1-4ef5-df9a-01e5defdffb3"
      },
      "source": [
        "len(data)"
      ],
      "execution_count": 6,
      "outputs": [
        {
          "output_type": "execute_result",
          "data": {
            "text/plain": [
              "106"
            ]
          },
          "metadata": {
            "tags": []
          },
          "execution_count": 6
        }
      ]
    },
    {
      "cell_type": "markdown",
      "metadata": {
        "id": "TrcK3kdwW7bM",
        "colab_type": "text"
      },
      "source": [
        "Sélection des éléments"
      ]
    },
    {
      "cell_type": "code",
      "metadata": {
        "id": "cJVlwd0QPdqx",
        "colab_type": "code",
        "colab": {
          "base_uri": "https://localhost:8080/",
          "height": 1000
        },
        "outputId": "300330a6-f8f7-4cd3-95df-3e96d8da3d8f"
      },
      "source": [
        "code_insee = []\n",
        "departement = []\n",
        "population = []\n",
        "for i in range(2, len(data)-1):\n",
        "  code_insee.append(data[i][1])\n",
        "  departement.append(data[i][2])\n",
        "  population.append(data[i][10])\n",
        "for i in range(0, len(departement)):\n",
        "  print('insee: ',code_insee[i], 'dep: ',departement[i], ', pop: ', population[i])\n"
      ],
      "execution_count": 32,
      "outputs": [
        {
          "output_type": "stream",
          "text": [
            "insee:  59 dep:  Nord , pop:  2 604 361\n",
            "insee:  75 dep:  Paris , pop:  2 187 526\n",
            "insee:  13 dep:  Bouches-du-Rhône , pop:  2 024 162\n",
            "insee:  69 dep:  Circonscription départementale du Rhône , pop:  1 843 319\n",
            "insee:  93 dep:  Seine-Saint-Denis , pop:  1 623 111\n",
            "insee:  92 dep:  Hauts-de-Seine , pop:  1 609 306\n",
            "insee:  33 dep:  Gironde , pop:  1 583 384\n",
            "insee:  62 dep:  Pas-de-Calais , pop:  1 468 018\n",
            "insee:  78 dep:  Yvelines , pop:  1 438 266\n",
            "insee:  77 dep:  Seine-et-Marne , pop:  1 403 997\n",
            "insee:  44 dep:  Loire-Atlantique , pop:  1 394 909\n",
            "insee:  94 dep:  Val-de-Marne , pop:  1 387 926\n",
            "insee:  69M dep:  Métropole de Lyon , pop:  \n",
            "insee:  31 dep:  Haute-Garonne , pop:  1 362 672\n",
            "insee:  91 dep:  Essonne , pop:  1 296 130\n",
            "insee:  38 dep:  Isère , pop:  1 258 722\n",
            "insee:  76 dep:  Seine-Maritime , pop:  1 254 378\n",
            "insee:  95 dep:  Val-d'Oise , pop:  1 228 618\n",
            "insee:  34 dep:  Hérault , pop:  1 144 892\n",
            "insee:  67 dep:  Bas-Rhin , pop:  1 125 559\n",
            "insee:  06 dep:  Alpes-Maritimes , pop:  1 083 310\n",
            "insee:  35 dep:  Ille-et-Vilaine , pop:  1 060 199\n",
            "insee:  83 dep:  Var , pop:  1 058 740\n",
            "insee:  57 dep:  Moselle , pop:  1 043 522\n",
            "insee:  29 dep:  Finistère , pop:  909 028\n",
            "insee:  974 dep:  La Réunion , pop:  853 659\n",
            "insee:  60 dep:  Oise , pop:  824 503\n",
            "insee:  49 dep:  Maine-et-Loire , pop:  813 493\n",
            "insee:  74 dep:  Haute-Savoie , pop:  807 360\n",
            "insee:  68 dep:  Haut-Rhin , pop:  764 030\n",
            "insee:  42 dep:  Loire , pop:  762 941\n",
            "insee:  56 dep:  Morbihan , pop:  750 863\n",
            "insee:  30 dep:  Gard , pop:  744 178\n",
            "insee:  54 dep:  Meurthe-et-Moselle , pop:  733 481\n",
            "insee:  14 dep:  Calvados , pop:  694 002\n",
            "insee:  45 dep:  Loiret , pop:  678 105\n",
            "insee:  64 dep:  Pyrénées-Atlantiques , pop:  677 309\n",
            "insee:  85 dep:  Vendée , pop:  675 247\n",
            "insee:  63 dep:  Puy-de-Dôme , pop:  653 742\n",
            "insee:  17 dep:  Charente-Maritime , pop:  644 303\n",
            "insee:  01 dep:  Ain , pop:  643 350\n",
            "insee:  37 dep:  Indre-et-Loire , pop:  606 511\n",
            "insee:  27 dep:  Eure , pop:  601 843\n",
            "insee:  22 dep:  Côtes-d'Armor , pop:  598 814\n",
            "insee:  80 dep:  Somme , pop:  572 443\n",
            "insee:  51 dep:  Marne , pop:  568 895\n",
            "insee:  72 dep:  Sarthe , pop:  566 506\n",
            "insee:  84 dep:  Vaucluse , pop:  559 479\n",
            "insee:  71 dep:  Saône-et-Loire , pop:  553 595\n",
            "insee:  25 dep:  Doubs , pop:  539 067\n",
            "insee:  02 dep:  Aisne , pop:  534 490\n",
            "insee:  21 dep:  Côte-d'Or , pop:  533 819\n",
            "insee:  26 dep:  Drôme , pop:  511 553\n",
            "insee:  50 dep:  Manche , pop:  496 883\n",
            "insee:  66 dep:  Pyrénées-Orientales , pop:  474 452\n",
            "insee:  69D dep:  Rhône[8] , pop:  \n",
            "insee:  86 dep:  Vienne , pop:  436 876\n",
            "insee:  28 dep:  Eure-et-Loir , pop:  433 233\n",
            "insee:  73 dep:  Savoie , pop:  431 174\n",
            "insee:  24 dep:  Dordogne , pop:  413 606\n",
            "insee:  40 dep:  Landes , pop:  407 444\n",
            "insee:  971 dep:  Guadeloupe , pop:  390 253\n",
            "insee:  81 dep:  Tarn , pop:  387 890\n",
            "insee:  87 dep:  Haute-Vienne , pop:  374 426\n",
            "insee:  79 dep:  Deux-Sèvres , pop:  374 351\n",
            "insee:  972 dep:  Martinique , pop:  372 594\n",
            "insee:  11 dep:  Aude , pop:  370 260\n",
            "insee:  88 dep:  Vosges , pop:  367 673\n",
            "insee:  16 dep:  Charente , pop:  352 335\n",
            "insee:  89 dep:  Yonne , pop:  338 291\n",
            "insee:  03 dep:  Allier , pop:  337 988\n",
            "insee:  47 dep:  Lot-et-Garonne , pop:  332 842\n",
            "insee:  41 dep:  Loir-et-Cher , pop:  331 915\n",
            "insee:  07 dep:  Ardèche , pop:  325 712\n",
            "insee:  10 dep:  Aube , pop:  310 020\n",
            "insee:  53 dep:  Mayenne , pop:  307 445\n",
            "insee:  18 dep:  Cher , pop:  304 256\n",
            "insee:  61 dep:  Orne , pop:  283 372\n",
            "insee:  12 dep:  Aveyron , pop:  279 206\n",
            "insee:  08 dep:  Ardennes , pop:  273 579\n",
            "insee:  973 dep:  Guyane , pop:  268 700\n",
            "insee:  39 dep:  Jura , pop:  260 188\n",
            "insee:  82 dep:  Tarn-et-Garonne , pop:  258 349\n",
            "insee:  976 dep:  Mayotte , pop:  376\n",
            "insee:  19 dep:  Corrèze , pop:  241 464\n",
            "insee:  70 dep:  Haute-Saône , pop:  236 659\n",
            "insee:  65 dep:  Hautes-Pyrénées , pop:  228 530\n",
            "insee:  43 dep:  Haute-Loire , pop:  227 283\n",
            "insee:  36 dep:  Indre , pop:  222 232\n",
            "insee:  58 dep:  Nièvre , pop:  207 182\n",
            "insee:  32 dep:  Gers , pop:  191 091\n",
            "insee:  55 dep:  Meuse , pop:  187 187\n",
            "insee:  2B dep:  Haute-Corse , pop:  177 689\n",
            "insee:  52 dep:  Haute-Marne , pop:  175 640\n",
            "insee:  46 dep:  Lot , pop:  173 828\n",
            "insee:  04 dep:  Alpes-de-Haute-Provence , pop:  163 915\n",
            "insee:  2A dep:  Corse-du-Sud , pop:  157 249\n",
            "insee:  09 dep:  Ariège , pop:  153 153\n",
            "insee:  15 dep:  Cantal , pop:  145 143\n",
            "insee:  90 dep:  Territoire de Belfort , pop:  142 622\n",
            "insee:  05 dep:  Hautes-Alpes , pop:  141 284\n",
            "insee:  23 dep:  Creuse , pop:  118 638\n",
            "insee:  48 dep:  Lozère , pop:  76 601\n"
          ],
          "name": "stdout"
        }
      ]
    },
    {
      "cell_type": "markdown",
      "metadata": {
        "id": "jnmMnAjIW_3N",
        "colab_type": "text"
      },
      "source": [
        "Dataframe final"
      ]
    },
    {
      "cell_type": "code",
      "metadata": {
        "id": "Kjs1BdsIPqCB",
        "colab_type": "code",
        "colab": {}
      },
      "source": [
        "import pandas as pd\n",
        "df = pd.DataFrame()\n",
        "\n",
        "df['code_insee'] = code_insee\n",
        "df['departement'] = departement\n",
        "df['population'] = population"
      ],
      "execution_count": 33,
      "outputs": []
    },
    {
      "cell_type": "code",
      "metadata": {
        "id": "-Q_--fjVQDrQ",
        "colab_type": "code",
        "colab": {
          "base_uri": "https://localhost:8080/",
          "height": 424
        },
        "outputId": "c656b17c-dff9-4690-d9cd-16fa849ba790"
      },
      "source": [
        "df"
      ],
      "execution_count": 34,
      "outputs": [
        {
          "output_type": "execute_result",
          "data": {
            "text/html": [
              "<div>\n",
              "<style scoped>\n",
              "    .dataframe tbody tr th:only-of-type {\n",
              "        vertical-align: middle;\n",
              "    }\n",
              "\n",
              "    .dataframe tbody tr th {\n",
              "        vertical-align: top;\n",
              "    }\n",
              "\n",
              "    .dataframe thead th {\n",
              "        text-align: right;\n",
              "    }\n",
              "</style>\n",
              "<table border=\"1\" class=\"dataframe\">\n",
              "  <thead>\n",
              "    <tr style=\"text-align: right;\">\n",
              "      <th></th>\n",
              "      <th>code_insee</th>\n",
              "      <th>departement</th>\n",
              "      <th>population</th>\n",
              "    </tr>\n",
              "  </thead>\n",
              "  <tbody>\n",
              "    <tr>\n",
              "      <th>0</th>\n",
              "      <td>59</td>\n",
              "      <td>Nord</td>\n",
              "      <td>2 604 361</td>\n",
              "    </tr>\n",
              "    <tr>\n",
              "      <th>1</th>\n",
              "      <td>75</td>\n",
              "      <td>Paris</td>\n",
              "      <td>2 187 526</td>\n",
              "    </tr>\n",
              "    <tr>\n",
              "      <th>2</th>\n",
              "      <td>13</td>\n",
              "      <td>Bouches-du-Rhône</td>\n",
              "      <td>2 024 162</td>\n",
              "    </tr>\n",
              "    <tr>\n",
              "      <th>3</th>\n",
              "      <td>69</td>\n",
              "      <td>Circonscription départementale du Rhône</td>\n",
              "      <td>1 843 319</td>\n",
              "    </tr>\n",
              "    <tr>\n",
              "      <th>4</th>\n",
              "      <td>93</td>\n",
              "      <td>Seine-Saint-Denis</td>\n",
              "      <td>1 623 111</td>\n",
              "    </tr>\n",
              "    <tr>\n",
              "      <th>...</th>\n",
              "      <td>...</td>\n",
              "      <td>...</td>\n",
              "      <td>...</td>\n",
              "    </tr>\n",
              "    <tr>\n",
              "      <th>98</th>\n",
              "      <td>15</td>\n",
              "      <td>Cantal</td>\n",
              "      <td>145 143</td>\n",
              "    </tr>\n",
              "    <tr>\n",
              "      <th>99</th>\n",
              "      <td>90</td>\n",
              "      <td>Territoire de Belfort</td>\n",
              "      <td>142 622</td>\n",
              "    </tr>\n",
              "    <tr>\n",
              "      <th>100</th>\n",
              "      <td>05</td>\n",
              "      <td>Hautes-Alpes</td>\n",
              "      <td>141 284</td>\n",
              "    </tr>\n",
              "    <tr>\n",
              "      <th>101</th>\n",
              "      <td>23</td>\n",
              "      <td>Creuse</td>\n",
              "      <td>118 638</td>\n",
              "    </tr>\n",
              "    <tr>\n",
              "      <th>102</th>\n",
              "      <td>48</td>\n",
              "      <td>Lozère</td>\n",
              "      <td>76 601</td>\n",
              "    </tr>\n",
              "  </tbody>\n",
              "</table>\n",
              "<p>103 rows × 3 columns</p>\n",
              "</div>"
            ],
            "text/plain": [
              "    code_insee                              departement population\n",
              "0           59                                     Nord  2 604 361\n",
              "1           75                                    Paris  2 187 526\n",
              "2           13                         Bouches-du-Rhône  2 024 162\n",
              "3           69  Circonscription départementale du Rhône  1 843 319\n",
              "4           93                        Seine-Saint-Denis  1 623 111\n",
              "..         ...                                      ...        ...\n",
              "98          15                                   Cantal    145 143\n",
              "99          90                    Territoire de Belfort    142 622\n",
              "100         05                             Hautes-Alpes    141 284\n",
              "101         23                                   Creuse    118 638\n",
              "102         48                                   Lozère     76 601\n",
              "\n",
              "[103 rows x 3 columns]"
            ]
          },
          "metadata": {
            "tags": []
          },
          "execution_count": 34
        }
      ]
    },
    {
      "cell_type": "markdown",
      "metadata": {
        "id": "jYQPOTTlXEdz",
        "colab_type": "text"
      },
      "source": [
        "Ecriture du fichier de sortie"
      ]
    },
    {
      "cell_type": "code",
      "metadata": {
        "id": "HYE5acLoTHsb",
        "colab_type": "code",
        "colab": {}
      },
      "source": [
        "df.to_csv('population_2017_departement.csv', encoding='utf-8')\n"
      ],
      "execution_count": 37,
      "outputs": []
    }
  ]
}